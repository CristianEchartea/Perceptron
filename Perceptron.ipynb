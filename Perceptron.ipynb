{
 "cells": [
  {
   "cell_type": "markdown",
   "metadata": {},
   "source": [
    "# Perceptron"
   ]
  },
  {
   "cell_type": "code",
   "execution_count": 25,
   "metadata": {},
   "outputs": [],
   "source": [
    "import numpy as np\n",
    "import matplotlib.pyplot as plt\n",
    "\n",
    "class perceptron:\n",
    "    \n",
    "    def __init__(self, n):\n",
    "        self.pesos = np.random.randn(n)\n",
    "        self.n = n\n",
    "    \n",
    "    def propagacion(self, entradas):\n",
    "        self.salida = 1 *(self.pesos.dot(entradas)>0)\n",
    "        self.entradas = entradas\n",
    "        \n",
    "    def actualizacion(self, alfa, salidas):\n",
    "        for i in range(0,self.n):\n",
    "            self.pesos[i]= self.pesos[i]+alfa*(salidas-self.salida)*self.entradas[i]"
   ]
  },
  {
   "cell_type": "code",
   "execution_count": 26,
   "metadata": {},
   "outputs": [],
   "source": [
    "perceptron_tres_entradas = perceptron(3)"
   ]
  },
  {
   "cell_type": "code",
   "execution_count": 27,
   "metadata": {},
   "outputs": [
    {
     "data": {
      "text/plain": [
       "array([-1.42336581,  2.57688821,  1.28702465])"
      ]
     },
     "execution_count": 27,
     "metadata": {},
     "output_type": "execute_result"
    }
   ],
   "source": [
    "perceptron_tres_entradas.pesos"
   ]
  },
  {
   "cell_type": "code",
   "execution_count": 28,
   "metadata": {},
   "outputs": [
    {
     "data": {
      "text/plain": [
       "0"
      ]
     },
     "execution_count": 28,
     "metadata": {},
     "output_type": "execute_result"
    }
   ],
   "source": [
    "perceptron_tres_entradas.propagacion([1,0,1])\n",
    "perceptron_tres_entradas.salida"
   ]
  },
  {
   "cell_type": "code",
   "execution_count": 29,
   "metadata": {},
   "outputs": [
    {
     "data": {
      "text/plain": [
       "array([-0.92336581,  2.57688821,  1.78702465])"
      ]
     },
     "execution_count": 29,
     "metadata": {},
     "output_type": "execute_result"
    }
   ],
   "source": [
    "perceptron_tres_entradas.actualizacion(0.5,1)\n",
    "perceptron_tres_entradas.pesos"
   ]
  },
  {
   "cell_type": "code",
   "execution_count": 30,
   "metadata": {},
   "outputs": [],
   "source": [
    "#perceptron se aprendera una funcion logica and\n",
    "\n",
    "perceptron_and = perceptron(3)\n",
    "\n",
    "ejemplos= np.array([[0,0,1,0],[0,1,1,0],[1,0,1,0],[1,1,1,1]])\n",
    "\n",
    "grad_pesos = [perceptron_and.pesos] #historiocos de pesos\n",
    "\n",
    "for epoca in range(0,100):\n",
    "    for i in range(0,4):\n",
    "        perceptron_and.propagacion(ejemplos[i,0:3])\n",
    "        perceptron_and.actualizacion(0.5,ejemplos[i,3])\n",
    "        grad_pesos= np.concatenate((grad_pesos,[perceptron_and.pesos] ),axis=0)"
   ]
  },
  {
   "cell_type": "code",
   "execution_count": 31,
   "metadata": {},
   "outputs": [
    {
     "data": {
      "image/png": "[encoded data removed]",
      "text/plain": [
       "<Figure size 432x288 with 1 Axes>"
      ]
     },
     "metadata": {
      "needs_background": "light"
     },
     "output_type": "display_data"
    }
   ],
   "source": [
    "plt.plot(grad_pesos[:,0],'k')\n",
    "plt.plot(grad_pesos[:,1],'r')\n",
    "plt.plot(grad_pesos[:,2],'b')\n",
    "\n",
    "plt.show()"
   ]
  },
  {
   "cell_type": "code",
   "execution_count": null,
   "metadata": {},
   "outputs": [],
   "source": []
  }
 ],
 "metadata": {
  "kernelspec": {
   "display_name": "Python 3",
   "language": "python",
   "name": "python3"
  },
  "language_info": {
   "codemirror_mode": {
    "name": "ipython",
    "version": 3
   },
   "file_extension": ".py",
   "mimetype": "text/x-python",
   "name": "python",
   "nbconvert_exporter": "python",
   "pygments_lexer": "ipython3",
   "version": "3.6.9"
  }
 },
 "nbformat": 4,
 "nbformat_minor": 4
}
